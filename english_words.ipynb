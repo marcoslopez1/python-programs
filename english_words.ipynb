import random
import datetime

letters = "abcdefghijklmnopqrstuvwxyz"
index = random.randint(0,25)

!curl https://marcoslopezsite.com/python_files_delete/english3.txt -o english.txt
english_words = open('english.txt', 'r')
words_database = english_words.read()

#Amount of time users have to play the game
time_game = 180 
print("\nWelcome to the 'English Level Game'. This game will calculate the number of words you are able to enter starting by a specific letter in the time of "+str(time_game)+" seconds")

game_mode = ""

while game_mode.lower() != "q" and game_mode != "1":
    game_mode = input("To start playing type '1'\nTo exit type 'q'.\n")

    #Users could exit the game before starting
    if game_mode.lower() == "q":
        break
       
    #Users could iniciate the game
    elif game_mode == "1":

        print("\nThis time you'll be asked to write words in English that start with the letter '"+ letters[index].upper() + "'" + "\nYou have 3 minutes to write as many words as possible. Let's get started!")

        game_mode_confirmation = input("\nType and enter any key to start.\n")
        
        time = datetime.datetime.now()
        time_max = time + datetime.timedelta(seconds = time_game)

        #To check time now and allowes time
        print(str(time) + "\n" + str(time_max))

        words = ""
        wrong_words = ""
        counter = 0

        while time_max >= datetime.datetime.now():
            word_input = str(input("Enter a word that starts with the letter " + letters[index].upper() + ": "))

            if time_max < datetime.datetime.now():
                print("\nSorry, you've entered that word out of time.")
                break
            else:
                pass


            if word_input.lower() in words_database.lower() and word_input.lower() not in words.lower() and word_input[0].lower() == letters[index]:
                words += word_input + "\n"
                counter += 1
                print("\nCorrect! " + word_input + " is a good word.")
            else:
                wrong_words += word_input + "\n"
                print("\nSorry, we don't recognize that word or you've already entered that one.")

        print("\n*** You've got " + str(counter) + " Correct Words in " + str(time_game) + " Seconds.\n \nCORRECT WORDS:\n-------------\n" + words + "\nINCORRECT WORDS:\n---------------\n" + wrong_words)

        break
        
    #In case they didn't selec the start or quite option they will be asked again
    else:
        pass
