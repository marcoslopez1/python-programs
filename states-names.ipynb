#This games will allow you to try to enter correctly the name of the 50 States of the USA using 55 attempts

state_1 = "alabama"
state_2 = "alaska"
state_3 = "arizona"
state_4 = "arkansas"
state_5 = "california"
state_6 = "colorado"
state_7 = "connecticut"
state_8 = "delaware"
state_9 = "florida"
state_10 = "georgia"
state_11 = "hawaii"
state_12 = "idaho"
state_13 = "illinois"
state_14 = "indiana"
state_15 = "iowa"
state_16 = "kansas"
state_17 = "kentucky"
state_18 = "louisiana"
state_19 = "maine"
state_20 = "maryland"
state_21 = "massachusetts"
state_22 = "michigan"
state_23 = "minnesota"
state_24 = "mississippi"
state_25 = "missouri"
state_26 = "montana"
state_27 = "nebraska"
state_28 = "nevada"
state_29 = "new hampshire"
state_30 = "new jersey"
state_31 = "new mexico"
state_32 = "new york"
state_33 = "north carolina"
state_34 = "north dakota"
state_35 = "ohio"
state_36 = "oklahoma"
state_37 = "oregon"
state_38 = "pennsylvania"
state_39 = "rhode island"
state_40 = "south carolina"
state_41 = "south dakota"
state_42 = "tennessee"
state_43 = "texas"
state_44 = "utah"
state_45 = "vermont"
state_46 = "virginia"
state_47 = "washington"
state_48 = "west virginia"
state_49 = "wisconsin"
state_50 = "wyoming"

game_mode = input("Welcome to the States Game of the United States of America:" + 
                 "\nType '1' - to Start the game" + 
                 "\nType 'Q' - to exit the game" + "\n")

states_counter = 0
attempts = 0
states_already = "test"

#Variables of the game:
max_attempts = 60
total_states = 50

#Error teórico permitido = max_attempts - total_states
#Error real realizado = attempts - states_counter
#Cuando "Error real realizado" > "Error teorico permitido" --> Fin del juego.



while True:
    if game_mode.lower() == "1":
        print("Get ready for the game:" + 
             "\nStart typing the name of the States of the USA.")
        
        #The conditions to keep playing:
        #   - The attempts are less than the maximum number of attempts (less because when entering the loop the last time, the attempts counter will be exactly the max number of attempts.)
        #   - The right states entered are less than the total (also the counter inside will equilize if the user reaches the total number of states.)
        #   - The real error is less or equal to the theoretical error (e.g: if user has 50 states to define and only 51 attempts, if he/she fails 2 attempts, the game is over.)
        
        while (attempts < max_attempts) and (states_counter < total_states) and (attempts - states_counter) <= (max_attempts - total_states):
            user_input = input("Enter one State name: ")
            
            if user_input.lower() == state_1 and (user_input.lower() not in states_already.lower()): 
                print("Correct! " + state_1.title() + " is one of the 50 States!")
                states_counter += 1
                attempts += 1
                states_already = states_already + str(state_1)
                print("So far: attempts = " + str(attempts) + " - states = " + str(states_counter))


            elif user_input.lower() == state_2  and (user_input.lower() not in states_already.lower()):
                print("Correct! " + state_2.title() + " is one of the 50 States!")
                states_counter += 1
                attempts += 1
                states_already = states_already + state_2
                print("So far: attempts = " + str(attempts) + " - states = " + str(states_counter))

            elif user_input.lower() == state_3  and (user_input.lower() not in states_already.lower()):
                print("Correct! " + state_3.title() + " is one of the 50 States!")
                states_counter += 1
                attempts += 1
                states_already = states_already + state_3
                print("So far: attempts = " + str(attempts) + " - states = " + str(states_counter))

            elif user_input.lower() == state_4  and (user_input.lower() not in states_already.lower()):
                print("Correct! " + state_4.title() + " is one of the 50 States!")
                states_counter += 1
                attempts += 1
                states_already = states_already + state_4
                print("So far: attempts = " + str(attempts) + " - states = " + str(states_counter))

            elif user_input.lower() == state_5  and (user_input.lower() not in states_already.lower()):
                print("Correct! " + state_5.title() + " is one of the 50 States!")
                states_counter += 1
                attempts += 1
                states_already = states_already + state_5
                print("So far: attempts = " + str(attempts) + " - states = " + str(states_counter))

            elif user_input.lower() == state_6  and (user_input.lower() not in states_already.lower()):
                print("Correct! " + state_6.title() + " is one of the 50 States!")
                states_counter += 1
                attempts += 1
                states_already = states_already + state_6
                print("So far: attempts = " + str(attempts) + " - states = " + str(states_counter))

            elif user_input.lower() == state_7  and (user_input.lower() not in states_already.lower()):
                print("Correct! " + state_7.title() + " is one of the 50 States!")
                states_counter += 1
                attempts += 1
                states_already = states_already + state_7
                print("So far: attempts = " + str(attempts) + " - states = " + str(states_counter))

            elif user_input.lower() == state_8  and (user_input.lower() not in states_already.lower()):
                print("Correct! " + state_8.title() + " is one of the 50 States!")
                states_counter += 1
                attempts += 1
                states_already = states_already + state_8
                print("So far: attempts = " + str(attempts) + " - states = " + str(states_counter))

            elif user_input.lower() == state_9  and (user_input.lower() not in states_already.lower()):
                print("Correct! " + state_9.title() + " is one of the 50 States!")
                states_counter += 1
                attempts += 1
                states_already = states_already + state_9
                print("So far: attempts = " + str(attempts) + " - states = " + str(states_counter))

            elif user_input.lower() == state_10  and (user_input.lower() not in states_already.lower()):
                print("Correct! " + state_10.title() + " is one of the 50 States!")
                states_counter += 1
                attempts += 1
                states_already = states_already + state_10
                print("So far: attempts = " + str(attempts) + " - states = " + str(states_counter))

            elif user_input.lower() == state_11  and (user_input.lower() not in states_already.lower()):
                print("Correct! " + state_11.title() + " is one of the 50 States!")
                states_counter += 1
                attempts += 1
                states_already = states_already + state_11
                print("So far: attempts = " + str(attempts) + " - states = " + str(states_counter))

            elif user_input.lower() == state_12  and (user_input.lower() not in states_already.lower()):
                print("Correct! " + state_12.title() + " is one of the 50 States!")
                states_counter += 1
                attempts += 1
                states_already = states_already + state_12
                print("So far: attempts = " + str(attempts) + " - states = " + str(states_counter))

            elif user_input.lower() == state_13  and (user_input.lower() not in states_already.lower()):
                print("Correct! " + state_13.title() + " is one of the 50 States!")
                states_counter += 1
                attempts += 1
                states_already = states_already + state_13
                print("So far: attempts = " + str(attempts) + " - states = " + str(states_counter))

            elif user_input.lower() == state_14  and (user_input.lower() not in states_already.lower()):
                print("Correct! " + state_14.title() + " is one of the 50 States!")
                states_counter += 1
                attempts += 1
                states_already = states_already + state_14
                print("So far: attempts = " + str(attempts) + " - states = " + str(states_counter))

            elif user_input.lower() == state_15  and (user_input.lower() not in states_already.lower()):
                print("Correct! " + state_15.title() + " is one of the 50 States!")
                states_counter += 1
                attempts += 1
                states_already = states_already + state_15
                print("So far: attempts = " + str(attempts) + " - states = " + str(states_counter))

            elif user_input.lower() == state_16  and (user_input.lower() not in states_already.lower()):
                print("Correct! " + state_16.title() + " is one of the 50 States!")
                states_counter += 1
                attempts += 1
                states_already = states_already + state_16
                print("So far: attempts = " + str(attempts) + " - states = " + str(states_counter))

            elif user_input.lower() == state_17  and (user_input.lower() not in states_already.lower()):
                print("Correct! " + state_17.title() + " is one of the 50 States!")
                states_counter += 1
                attempts += 1
                states_already = states_already + state_17
                print("So far: attempts = " + str(attempts) + " - states = " + str(states_counter))

            elif user_input.lower() == state_18  and (user_input.lower() not in states_already.lower()):
                print("Correct! " + state_18.title() + " is one of the 50 States!")
                states_counter += 1
                attempts += 1
                states_already = states_already + state_18
                print("So far: attempts = " + str(attempts) + " - states = " + str(states_counter))

            elif user_input.lower() == state_19  and (user_input.lower() not in states_already.lower()):
                print("Correct! " + state_19.title() + " is one of the 50 States!")
                states_counter += 1
                attempts += 1
                states_already = states_already + state_19
                print("So far: attempts = " + str(attempts) + " - states = " + str(states_counter))

            elif user_input.lower() == state_20  and (user_input.lower() not in states_already.lower()):
                print("Correct! " + state_20.title() + " is one of the 50 States!")
                states_counter += 1
                attempts += 1
                states_already = states_already + state_20
                print("So far: attempts = " + str(attempts) + " - states = " + str(states_counter))

            elif user_input.lower() == state_21  and (user_input.lower() not in states_already.lower()):
                print("Correct! " + state_21.title() + " is one of the 50 States!")
                states_counter += 1
                attempts += 1
                states_already = states_already + state_21
                print("So far: attempts = " + str(attempts) + " - states = " + str(states_counter))

            elif user_input.lower() == state_22  and (user_input.lower() not in states_already.lower()):
                print("Correct! " + state_22.title() + " is one of the 50 States!")
                states_counter += 1
                attempts += 1
                states_already = states_already + state_22
                print("So far: attempts = " + str(attempts) + " - states = " + str(states_counter))

            elif user_input.lower() == state_23  and (user_input.lower() not in states_already.lower()):
                print("Correct! " + state_23.title() + " is one of the 50 States!")
                states_counter += 1
                attempts += 1
                states_already = states_already + state_23
                print("So far: attempts = " + str(attempts) + " - states = " + str(states_counter))

            elif user_input.lower() == state_24  and (user_input.lower() not in states_already.lower()):
                print("Correct! " + state_24.title() + " is one of the 50 States!")
                states_counter += 1
                attempts += 1
                states_already = states_already + state_24
                print("So far: attempts = " + str(attempts) + " - states = " + str(states_counter))

            elif user_input.lower() == state_25  and (user_input.lower() not in states_already.lower()):
                print("Correct! " + state_25.title() + " is one of the 50 States!")
                states_counter += 1
                attempts += 1
                states_already = states_already + state_25
                print("So far: attempts = " + str(attempts) + " - states = " + str(states_counter))

            elif user_input.lower() == state_26  and (user_input.lower() not in states_already.lower()):
                print("Correct! " + state_26.title() + " is one of the 50 States!")
                states_counter += 1
                attempts += 1
                states_already = states_already + state_26
                print("So far: attempts = " + str(attempts) + " - states = " + str(states_counter))

            elif user_input.lower() == state_27  and (user_input.lower() not in states_already.lower()):
                print("Correct! " + state_27.title() + " is one of the 50 States!")
                states_counter += 1
                attempts += 1
                states_already = states_already + state_27
                print("So far: attempts = " + str(attempts) + " - states = " + str(states_counter))

            elif user_input.lower() == state_28  and (user_input.lower() not in states_already.lower()):
                print("Correct! " + state_28.title() + " is one of the 50 States!")
                states_counter += 1
                attempts += 1
                states_already = states_already + state_28
                print("So far: attempts = " + str(attempts) + " - states = " + str(states_counter))

            elif user_input.lower() == state_29  and (user_input.lower() not in states_already.lower()):
                print("Correct! " + state_29.title() + " is one of the 50 States!")
                states_counter += 1
                attempts += 1
                states_already = states_already + state_29
                print("So far: attempts = " + str(attempts) + " - states = " + str(states_counter))

            elif user_input.lower() == state_30  and (user_input.lower() not in states_already.lower()):
                print("Correct! " + state_30.title() + " is one of the 50 States!")
                states_counter += 1
                attempts += 1
                states_already = states_already + state_30
                print("So far: attempts = " + str(attempts) + " - states = " + str(states_counter))

            elif user_input.lower() == state_31  and (user_input.lower() not in states_already.lower()):
                print("Correct! " + state_31.title() + " is one of the 50 States!")
                states_counter += 1
                attempts += 1
                states_already = states_already + state_31
                print("So far: attempts = " + str(attempts) + " - states = " + str(states_counter))

            elif user_input.lower() == state_32  and (user_input.lower() not in states_already.lower()):
                print("Correct! " + state_32.title() + " is one of the 50 States!")
                states_counter += 1
                attempts += 1
                states_already = states_already + state_32
                print("So far: attempts = " + str(attempts) + " - states = " + str(states_counter))

            elif user_input.lower() == state_33  and (user_input.lower() not in states_already.lower()):
                print("Correct! " + state_33.title() + " is one of the 50 States!")
                states_counter += 1
                attempts += 1
                states_already = states_already + state_33
                print("So far: attempts = " + str(attempts) + " - states = " + str(states_counter))

            elif user_input.lower() == state_34  and (user_input.lower() not in states_already.lower()):
                print("Correct! " + state_34.title() + " is one of the 50 States!")
                states_counter += 1
                attempts += 1
                states_already = states_already + state_34
                print("So far: attempts = " + str(attempts) + " - states = " + str(states_counter))

            elif user_input.lower() == state_35  and (user_input.lower() not in states_already.lower()):
                print("Correct! " + state_35.title() + " is one of the 50 States!")
                states_counter += 1
                attempts += 1
                states_already = states_already + state_35
                print("So far: attempts = " + str(attempts) + " - states = " + str(states_counter))

            elif user_input.lower() == state_36  and (user_input.lower() not in states_already.lower()):
                print("Correct! " + state_36.title() + " is one of the 50 States!")
                states_counter += 1
                attempts += 1
                states_already = states_already + state_36
                print("So far: attempts = " + str(attempts) + " - states = " + str(states_counter))

            elif user_input.lower() == state_37  and (user_input.lower() not in states_already.lower()):
                print("Correct! " + state_37.title() + " is one of the 50 States!")
                states_counter += 1
                attempts += 1
                states_already = states_already + state_37
                print("So far: attempts = " + str(attempts) + " - states = " + str(states_counter))

            elif user_input.lower() == state_38  and (user_input.lower() not in states_already.lower()):
                print("Correct! " + state_38.title() + " is one of the 50 States!")
                states_counter += 1
                attempts += 1
                states_already = states_already + state_38
                print("So far: attempts = " + str(attempts) + " - states = " + str(states_counter))

            elif user_input.lower() == state_39  and (user_input.lower() not in states_already.lower()):
                print("Correct! " + state_39.title() + " is one of the 50 States!")
                states_counter += 1
                attempts += 1
                states_already = states_already + state_39
                print("So far: attempts = " + str(attempts) + " - states = " + str(states_counter))

            elif user_input.lower() == state_40  and (user_input.lower() not in states_already.lower()):
                print("Correct! " + state_40.title() + " is one of the 50 States!")
                states_counter += 1
                attempts += 1
                states_already = states_already + state_40
                print("So far: attempts = " + str(attempts) + " - states = " + str(states_counter))

            elif user_input.lower() == state_41  and (user_input.lower() not in states_already.lower()):
                print("Correct! " + state_41.title() + " is one of the 50 States!")
                states_counter += 1
                attempts += 1
                states_already = states_already + state_41
                print("So far: attempts = " + str(attempts) + " - states = " + str(states_counter))

            elif user_input.lower() == state_42  and (user_input.lower() not in states_already.lower()):
                print("Correct! " + state_42.title() + " is one of the 50 States!")
                states_counter += 1
                attempts += 1
                states_already = states_already + state_42
                print("So far: attempts = " + str(attempts) + " - states = " + str(states_counter))

            elif user_input.lower() == state_43  and (user_input.lower() not in states_already.lower()):
                print("Correct! " + state_43.title() + " is one of the 50 States!")
                states_counter += 1
                attempts += 1
                states_already = states_already + state_43
                print("So far: attempts = " + str(attempts) + " - states = " + str(states_counter))

            elif user_input.lower() == state_44  and (user_input.lower() not in states_already.lower()):
                print("Correct! " + state_44.title() + " is one of the 50 States!")
                states_counter += 1
                attempts += 1
                states_already = states_already + state_44
                print("So far: attempts = " + str(attempts) + " - states = " + str(states_counter))

            elif user_input.lower() == state_45  and (user_input.lower() not in states_already.lower()):
                print("Correct! " + state_45.title() + " is one of the 50 States!")
                states_counter += 1
                attempts += 1
                states_already = states_already + state_45
                print("So far: attempts = " + str(attempts) + " - states = " + str(states_counter))

            elif user_input.lower() == state_46  and (user_input.lower() not in states_already.lower()):
                print("Correct! " + state_46.title() + " is one of the 50 States!")
                states_counter += 1
                attempts += 1
                states_already = states_already + state_46
                print("So far: attempts = " + str(attempts) + " - states = " + str(states_counter))

            elif user_input.lower() == state_47  and (user_input.lower() not in states_already.lower()):
                print("Correct! " + state_47.title() + " is one of the 50 States!")
                states_counter += 1
                attempts += 1
                states_already = states_already + state_47
                print("So far: attempts = " + str(attempts) + " - states = " + str(states_counter))

            elif user_input.lower() == state_48  and (user_input.lower() not in states_already.lower()):
                print("Correct! " + state_48.title() + " is one of the 50 States!")
                states_counter += 1
                attempts += 1
                states_already = states_already + state_48
                print("So far: attempts = " + str(attempts) + " - states = " + str(states_counter))

            elif user_input.lower() == state_49  and (user_input.lower() not in states_already.lower()):
                print("Correct! " + state_49.title() + " is one of the 50 States!")
                states_counter += 1
                attempts += 1
                states_already = states_already + state_49
                print("So far: attempts = " + str(attempts) + " - states = " + str(states_counter))

            elif user_input.lower() == state_50  and (user_input.lower() not in states_already.lower()):
                print("Correct! " + state_50.title() + " is one of the 50 States!")
                states_counter += 1
                attempts += 1
                states_already = states_already + state_50
                print("So far: attempts = " + str(attempts) + " - states = " + str(states_counter))

            elif user_input.lower() == "exit"  and (user_input.lower() not in states_already.lower()):
                print("It seems you've type 'Exit', therefore we understand you're quitting the game. Try again if you want.")
                max_attempts = 0
                break
                
            else:
                print("Sorry, either '" + user_input.title() + "'" + " is not a correct name of any state or you already entered that name.")
                attempts += 1        
                print("So far: attempts = " + str(attempts) + " - states = " + str(states_counter))
        
        if (states_counter == total_states) and (attempts <= max_attempts):
            print("\nCONGRATULARIONS!" +
                  "\n----------------\nYou've reached the " + str(total_states) + " States using " + str(attempts) + " attempts.")
            print("Thanks for playing.")
        else:
            print("\nGAME OVER" + 
                  "\n---------\nSorry, you've used the maximum number of attempts without the expected result." + 
                  "\nAttempts: " + str(attempts) + " - Correct States: " + str(states_counter))
            print("Thanks for playing.")
                        
        break
        
    elif game_mode.lower() == "q":
        print("Thanks for playing.")
        break
    else:
        game_mode = input("Welcome to the States Game of the United States of America:" + 
                     "\nType 'S' - to Start the game" + 
                     "\nType 'Q' - to exit the game" + "\n")
